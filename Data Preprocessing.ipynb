{
 "cells": [
  {
   "cell_type": "code",
   "execution_count": 1,
   "metadata": {},
   "outputs": [],
   "source": [
    "%store -r pooledpdict "
   ]
  },
  {
   "cell_type": "code",
   "execution_count": 2,
   "metadata": {},
   "outputs": [],
   "source": [
    "import pandas as pd\n",
    "import numpy as np\n",
    "from itertools import cycle"
   ]
  },
  {
   "cell_type": "code",
   "execution_count": 3,
   "metadata": {},
   "outputs": [],
   "source": [
    "def preprocessing(pdict):\n",
    "    #forming a dataframe\n",
    "    df = pd.DataFrame(pdict).T \n",
    "    \n",
    "    #forming a dataframe by mapping each image of a patient to its label and patient id\n",
    "    def func(idx):\n",
    "        return list(zip(cycle([idx]),df.loc[idx,'images'],cycle([df.loc[idx,'label']])))\n",
    "    \n",
    "    df_all = list(map(func,df.index))\n",
    "    spreadlist = sum(df_all,[])\n",
    "    new_df = pd.DataFrame(spreadlist,columns=['PatientID','Image','label'])\n",
    "    \n",
    "    #splitting that new dataframe into train and test\n",
    "    total = len(new_df)\n",
    "    test = int(np.ceil(0.2*total))\n",
    "    train = total-test\n",
    "    \n",
    "    dftrain = new_df.iloc[0:train]\n",
    "    dftest = new_df.iloc[train:]\n",
    "    \n",
    "    return dftrain,dftest "
   ]
  },
  {
   "cell_type": "code",
   "execution_count": 4,
   "metadata": {},
   "outputs": [],
   "source": [
    "dftr,dfte = preprocessing(pooledpdict)"
   ]
  },
  {
   "cell_type": "code",
   "execution_count": 9,
   "metadata": {},
   "outputs": [],
   "source": [
    "# file_name = \"train_csv.pkl\"\n",
    "# dftr.to_pickle(file_name)"
   ]
  },
  {
   "cell_type": "code",
   "execution_count": 10,
   "metadata": {},
   "outputs": [],
   "source": [
    "# mydf = pd.read_pickle('train_csv.pkl')"
   ]
  },
  {
   "cell_type": "code",
   "execution_count": 11,
   "metadata": {},
   "outputs": [
    {
     "data": {
      "text/html": [
       "<div>\n",
       "<style scoped>\n",
       "    .dataframe tbody tr th:only-of-type {\n",
       "        vertical-align: middle;\n",
       "    }\n",
       "\n",
       "    .dataframe tbody tr th {\n",
       "        vertical-align: top;\n",
       "    }\n",
       "\n",
       "    .dataframe thead th {\n",
       "        text-align: right;\n",
       "    }\n",
       "</style>\n",
       "<table border=\"1\" class=\"dataframe\">\n",
       "  <thead>\n",
       "    <tr style=\"text-align: right;\">\n",
       "      <th></th>\n",
       "      <th>PatientID</th>\n",
       "      <th>Image</th>\n",
       "      <th>label</th>\n",
       "    </tr>\n",
       "  </thead>\n",
       "  <tbody>\n",
       "    <tr>\n",
       "      <th>0</th>\n",
       "      <td>TCGA-CS-4938</td>\n",
       "      <td>[[25, 24, 6, 25, 13, 10, 18, 17, 18, 46, 30, 7...</td>\n",
       "      <td>Alive</td>\n",
       "    </tr>\n",
       "    <tr>\n",
       "      <th>1</th>\n",
       "      <td>TCGA-CS-4938</td>\n",
       "      <td>[[14, 15, 4, 14, 15, 7, 8, 16, 28, 19, 19, 20,...</td>\n",
       "      <td>Alive</td>\n",
       "    </tr>\n",
       "    <tr>\n",
       "      <th>2</th>\n",
       "      <td>TCGA-CS-4938</td>\n",
       "      <td>[[25, 9, 22, 14, 35, 20, 8, 18, 11, 16, 36, 41...</td>\n",
       "      <td>Alive</td>\n",
       "    </tr>\n",
       "    <tr>\n",
       "      <th>3</th>\n",
       "      <td>TCGA-CS-4938</td>\n",
       "      <td>[[0, 0, 0, 0, 0, 0, 0, 0, 0, 0, 0, 0, 0, 0, 0,...</td>\n",
       "      <td>Alive</td>\n",
       "    </tr>\n",
       "    <tr>\n",
       "      <th>4</th>\n",
       "      <td>TCGA-CS-4938</td>\n",
       "      <td>[[0, 0, 0, 0, 0, 0, 0, 0, 0, 0, 0, 0, 0, 0, 0,...</td>\n",
       "      <td>Alive</td>\n",
       "    </tr>\n",
       "  </tbody>\n",
       "</table>\n",
       "</div>"
      ],
      "text/plain": [
       "      PatientID                                              Image  label\n",
       "0  TCGA-CS-4938  [[25, 24, 6, 25, 13, 10, 18, 17, 18, 46, 30, 7...  Alive\n",
       "1  TCGA-CS-4938  [[14, 15, 4, 14, 15, 7, 8, 16, 28, 19, 19, 20,...  Alive\n",
       "2  TCGA-CS-4938  [[25, 9, 22, 14, 35, 20, 8, 18, 11, 16, 36, 41...  Alive\n",
       "3  TCGA-CS-4938  [[0, 0, 0, 0, 0, 0, 0, 0, 0, 0, 0, 0, 0, 0, 0,...  Alive\n",
       "4  TCGA-CS-4938  [[0, 0, 0, 0, 0, 0, 0, 0, 0, 0, 0, 0, 0, 0, 0,...  Alive"
      ]
     },
     "execution_count": 11,
     "metadata": {},
     "output_type": "execute_result"
    }
   ],
   "source": [
    "# mydf.head()"
   ]
  },
  {
   "cell_type": "code",
   "execution_count": 12,
   "metadata": {},
   "outputs": [],
   "source": [
    "# file_name_test = \"test_data.pkl\"\n",
    "# dfte.to_pickle(file_name_test)"
   ]
  }
 ],
 "metadata": {
  "kernelspec": {
   "display_name": "Python 3",
   "language": "python",
   "name": "python3"
  },
  "language_info": {
   "codemirror_mode": {
    "name": "ipython",
    "version": 3
   },
   "file_extension": ".py",
   "mimetype": "text/x-python",
   "name": "python",
   "nbconvert_exporter": "python",
   "pygments_lexer": "ipython3",
   "version": "3.6.5"
  }
 },
 "nbformat": 4,
 "nbformat_minor": 2
}
