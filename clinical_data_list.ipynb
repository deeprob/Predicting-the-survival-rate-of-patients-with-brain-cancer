{
 "cells": [
  {
   "cell_type": "code",
   "execution_count": 39,
   "metadata": {},
   "outputs": [
    {
     "name": "stdout",
     "output_type": "stream",
     "text": [
      "No clinical data in collections RIDER NEURO MRI\n",
      "No clinical data in collections QIN-BRAIN-DSC-MRI\n",
      "No clinical data in collections LGG-1p19qDeletion\n",
      "No clinical data in collections Brain-Tumor-Progression\n"
     ]
    }
   ],
   "source": [
    "import requests\n",
    "from bs4 import BeautifulSoup\n",
    "\n",
    "brain_list = ['TCGA-GBM','REMBRANDT','RIDER NEURO MRI','TCGA-LGG','QIN-BRAIN-DSC-MRI',\\\n",
    "              'LGG-1p19qDeletion','Brain-Tumor-Progression','ACRIN-FMISO-Brain']\n",
    "\n",
    "brain_list_clinical = []\n",
    "id_wanted = 'TCGA-LGG'\n",
    "\n",
    "for bid in brain_list:\n",
    "    head = \"https://wiki.cancerimagingarchive.net\"\n",
    "    page = requests.get(f\"{head}/display/Public/{bid}\")\n",
    "    soup = BeautifulSoup(page.content, 'html.parser')\n",
    "    trs = soup.findAll('tr')\n",
    "    try:\n",
    "        clinical_tr = [tr for tr in trs if 'Clinical' in tr.text][0]\n",
    "        clinical_data_url = head+clinical_tr.a['href']\n",
    "    except:\n",
    "        print(f\"No clinical data in collections {bid}\")\n",
    "        continue\n",
    "    \n",
    "    brain_list_clinical.append(bid)\n",
    "    \n",
    "    if bid == id_wanted:\n",
    "        data = requests.get(clinical_data_url)\n",
    "        open(f\"{bid}_clinical.zip\", 'wb').write(data.content)"
   ]
  },
  {
   "cell_type": "code",
   "execution_count": 40,
   "metadata": {},
   "outputs": [
    {
     "data": {
      "text/plain": [
       "['TCGA-GBM', 'REMBRANDT', 'TCGA-LGG', 'ACRIN-FMISO-Brain']"
      ]
     },
     "execution_count": 40,
     "metadata": {},
     "output_type": "execute_result"
    }
   ],
   "source": [
    "brain_list_clinical"
   ]
  }
 ],
 "metadata": {
  "kernelspec": {
   "display_name": "Python 3",
   "language": "python",
   "name": "python3"
  },
  "language_info": {
   "codemirror_mode": {
    "name": "ipython",
    "version": 3
   },
   "file_extension": ".py",
   "mimetype": "text/x-python",
   "name": "python",
   "nbconvert_exporter": "python",
   "pygments_lexer": "ipython3",
   "version": "3.7.3"
  }
 },
 "nbformat": 4,
 "nbformat_minor": 2
}
